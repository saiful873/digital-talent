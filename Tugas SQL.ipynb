{
 "cells": [
  {
   "cell_type": "code",
   "execution_count": null,
   "metadata": {},
   "outputs": [],
   "source": [
    "import pymysql\n",
    "import pandas as pd"
   ]
  },
  {
   "cell_type": "code",
   "execution_count": null,
   "metadata": {},
   "outputs": [],
   "source": [
    "host = '127.0.0.1' #untuk kerja lokal\n",
    "port = \"3306\"\n",
    "user = 'root'\n",
    "password = ''\n",
    "database = 'classicmodels'\n",
    "\n",
    "conn = pymysql.connect(\n",
    "    host=host,\n",
    "    port=int(port),\n",
    "    user=user,\n",
    "    passwd=password,\n",
    "    db=database,\n",
    "    charset='utf8mb4')\n",
    "\n",
    "def run(sql):\n",
    "    df = pd.read_sql_query(sql,conn)\n",
    "    return df"
   ]
  },
  {
   "cell_type": "markdown",
   "metadata": {},
   "source": [
    "### 1. Prepare a list of offices sorted by country, state, city"
   ]
  },
  {
   "cell_type": "code",
   "execution_count": null,
   "metadata": {},
   "outputs": [],
   "source": [
    "run (\"SELECT * FROM offices ORDER BY country, state, city\")"
   ]
  },
  {
   "cell_type": "code",
   "execution_count": null,
   "metadata": {},
   "outputs": [],
   "source": [
    "run(\"SELECT country, state, city FROM offices ORDER BY country, state,city\")"
   ]
  },
  {
   "cell_type": "markdown",
   "metadata": {},
   "source": [
    "### 2. How many employees are there in the company?"
   ]
  },
  {
   "cell_type": "code",
   "execution_count": null,
   "metadata": {},
   "outputs": [],
   "source": [
    "run (\"SELECT * FROM employees\")"
   ]
  },
  {
   "cell_type": "markdown",
   "metadata": {},
   "source": [
    "Sebelum menghitung jumlah baris (untuk menghitung jumlah 'employee') alangkah baiknya memastikan tidak ada nama pegawai yang terduplikasi dengan cara memastikan nomor pegawai ('employeeNumber' nomor unik,masing- masing pegawai, yang dimiliki setiap pegawai) tidak terduplikasi. Memastikan dengan 'firstname' atau 'lastname' saja dapat terjadi kesalahan karena ada kemungkinan nama depan atau nama belakang saja ada yang sama."
   ]
  },
  {
   "cell_type": "code",
   "execution_count": null,
   "metadata": {},
   "outputs": [],
   "source": [
    "run(\"SELECT DISTINCT employeeNumber FROM employees \")"
   ]
  },
  {
   "cell_type": "code",
   "execution_count": null,
   "metadata": {},
   "outputs": [],
   "source": [
    "run(\"SELECT COUNT(DISTINCT employeeNumber) FROM employees\") #dihitung jumlah baris dalam tabel"
   ]
  },
  {
   "cell_type": "markdown",
   "metadata": {},
   "source": [
    "### 3. What is the total of payments received?"
   ]
  },
  {
   "cell_type": "code",
   "execution_count": null,
   "metadata": {
    "scrolled": true
   },
   "outputs": [],
   "source": [
    "run(\"\"\"SELECT \n",
    "    customerNumber, checkNumber, paymentDate,\n",
    "    CONCAT('$',\n",
    "            FORMAT(amount, 2))\n",
    "    FROM payments\"\"\")"
   ]
  },
  {
   "cell_type": "code",
   "execution_count": null,
   "metadata": {},
   "outputs": [],
   "source": [
    "run(\"SELECT CONCAT ('$', FORMAT(SUM(amount), 2)) AS TotalPayment FROM payments\")"
   ]
  },
  {
   "cell_type": "markdown",
   "metadata": {},
   "source": [
    "### 4. List the product lines that contain 'Cars'"
   ]
  },
  {
   "cell_type": "code",
   "execution_count": null,
   "metadata": {},
   "outputs": [],
   "source": [
    "run(\"SELECT productLine FROM productlines WHERE productLine LIKE '%Cars%'\")"
   ]
  },
  {
   "cell_type": "code",
   "execution_count": null,
   "metadata": {
    "scrolled": false
   },
   "outputs": [],
   "source": [
    "run(\"SELECT productCode, productName, productLine FROM products WHERE productLine LIKE '%cars%'\")"
   ]
  },
  {
   "cell_type": "markdown",
   "metadata": {},
   "source": [
    "### 5. Report total payments for October 28, 2004"
   ]
  },
  {
   "cell_type": "code",
   "execution_count": null,
   "metadata": {},
   "outputs": [],
   "source": [
    "run(\"\"\"SELECT customerNumber, paymentDate,\n",
    "    CONCAT('$',\n",
    "    FORMAT(amount, 2)) FROM payments WHERE paymentDate = '2004-10-28'\"\"\")"
   ]
  },
  {
   "cell_type": "markdown",
   "metadata": {},
   "source": [
    "total pembayaran hingga 28 Oktober 2004"
   ]
  },
  {
   "cell_type": "code",
   "execution_count": null,
   "metadata": {},
   "outputs": [],
   "source": [
    "run(\"SELECT CONCAT('$', FORMAT(SUM(amount),2)) FROM payments WHERE paymentDate <= '2004-10-28'\")"
   ]
  },
  {
   "cell_type": "markdown",
   "metadata": {},
   "source": [
    "### 6. Report those payments greater than $100.000"
   ]
  },
  {
   "cell_type": "code",
   "execution_count": null,
   "metadata": {},
   "outputs": [],
   "source": [
    "run(\"SELECT customerNumber, checkNumber, paymentDate, CONCAT('$', FORMAT(amount, 2)) FROM payments WHERE amount > '100000'\")"
   ]
  },
  {
   "cell_type": "markdown",
   "metadata": {},
   "source": [
    "### 7. List the products in each product line."
   ]
  },
  {
   "cell_type": "code",
   "execution_count": null,
   "metadata": {},
   "outputs": [],
   "source": [
    "run(\"SELECT productLine, productCode, productName FROM products ORDER BY productLine\")"
   ]
  },
  {
   "cell_type": "markdown",
   "metadata": {},
   "source": [
    "### 8. How many products in each product line?"
   ]
  },
  {
   "cell_type": "code",
   "execution_count": null,
   "metadata": {},
   "outputs": [],
   "source": [
    "run(\"SELECT productLine, COUNT(productName) FROM products GROUP BY productLine \")"
   ]
  },
  {
   "cell_type": "markdown",
   "metadata": {},
   "source": [
    "### 9. What is the minimum payment received?"
   ]
  },
  {
   "cell_type": "code",
   "execution_count": null,
   "metadata": {},
   "outputs": [],
   "source": [
    "run(\"SELECT CONCAT('$', FORMAT(MIN(amount),2)) AS MinimumPayment FROM payments\")"
   ]
  },
  {
   "cell_type": "code",
   "execution_count": null,
   "metadata": {},
   "outputs": [],
   "source": [
    "run(\"SELECT customerNumber, checkNumber, paymentDate, CONCAT('$', FORMAT(amount,2)) FROM payments WHERE amount = (SELECT MIN(amount) FROM payments)\")"
   ]
  },
  {
   "cell_type": "markdown",
   "metadata": {},
   "source": [
    "### 10. List all payments greater than twice the average payment."
   ]
  },
  {
   "cell_type": "code",
   "execution_count": null,
   "metadata": {},
   "outputs": [],
   "source": [
    "run(\"\"\"SELECT customerNumber, checkNumber, paymentDate, CONCAT('$', FORMAT(amount,2)) \n",
    "        FROM payments \n",
    "        WHERE amount > (SELECT 2 * AVG(amount) FROM payments)\"\"\")"
   ]
  },
  {
   "cell_type": "code",
   "execution_count": null,
   "metadata": {},
   "outputs": [],
   "source": [
    "run(\"SELECT CONCAT('$', FORMAT(2 * AVG(amount), 2)) AS TwiceTheAverage FROM payments\")"
   ]
  },
  {
   "cell_type": "markdown",
   "metadata": {},
   "source": [
    "### 11. What is the average percentage markup of the MSRP on buyPrice?"
   ]
  },
  {
   "cell_type": "code",
   "execution_count": null,
   "metadata": {},
   "outputs": [],
   "source": [
    "run(\"SELECT buyprice, MSRP, CONCAT(FORMAT((MSRP-buyprice)/buyprice*100, 2), '%') AS percentageMarkup FROM products\")"
   ]
  },
  {
   "cell_type": "code",
   "execution_count": null,
   "metadata": {},
   "outputs": [],
   "source": [
    "run(\"SELECT CONCAT(FORMAT(AVG((MSRP-buyprice)/buyprice*100), 2), '%') AS avrPercentageMarkup FROM products\")"
   ]
  },
  {
   "cell_type": "markdown",
   "metadata": {},
   "source": [
    "### 12. How many distinct products does ClassicModels sell?\n",
    "\n",
    "Banyaknya jenis produk yang terjual, dapat dilihat dari 'tabel orderdetails'"
   ]
  },
  {
   "cell_type": "code",
   "execution_count": null,
   "metadata": {},
   "outputs": [],
   "source": [
    "run(\"SELECT COUNT(productCode) AS orderNumber FROM orderdetails\")"
   ]
  },
  {
   "cell_type": "code",
   "execution_count": null,
   "metadata": {},
   "outputs": [],
   "source": [
    "run(\"SELECT COUNT(DISTINCT productCode) AS orderNumber FROM orderdetails\")"
   ]
  },
  {
   "cell_type": "markdown",
   "metadata": {},
   "source": [
    "### 13. Report the name and city of customers who don't have sales representatives?"
   ]
  },
  {
   "cell_type": "code",
   "execution_count": null,
   "metadata": {},
   "outputs": [],
   "source": [
    "run(\"SELECT customerName, city, salesrepemployeenumber FROM customers WHERE salesrepemployeenumber IS NULL\") "
   ]
  },
  {
   "cell_type": "markdown",
   "metadata": {},
   "source": [
    "### 14. What are the names of executives with VP or Manager in their title? Use the CONCAT function to combine the employee's first name and last name into a single field for reporting."
   ]
  },
  {
   "cell_type": "code",
   "execution_count": null,
   "metadata": {},
   "outputs": [],
   "source": [
    "run(\"SELECT CONCAT(lastname,' ' , firstname) AS fullName, jobTitle FROM employees WHERE jobTitle LIKE '%VP%' OR jobtitle LIKE '%Manager%'\")"
   ]
  },
  {
   "cell_type": "markdown",
   "metadata": {},
   "source": [
    "### 15. Which orders have a value greater than $5,000?"
   ]
  },
  {
   "cell_type": "code",
   "execution_count": null,
   "metadata": {},
   "outputs": [],
   "source": [
    "run(\"SELECT orderNumber, productCode, CONCAT('$',FORMAT(quantityOrdered * priceEach, 2)) AS totalPrice FROM orderdetails WHERE quantityOrdered * priceEach > 5000\")"
   ]
  },
  {
   "cell_type": "code",
   "execution_count": null,
   "metadata": {},
   "outputs": [],
   "source": []
  }
 ],
 "metadata": {
  "kernelspec": {
   "display_name": "Python 3",
   "language": "python",
   "name": "python3"
  },
  "language_info": {
   "codemirror_mode": {
    "name": "ipython",
    "version": 3
   },
   "file_extension": ".py",
   "mimetype": "text/x-python",
   "name": "python",
   "nbconvert_exporter": "python",
   "pygments_lexer": "ipython3",
   "version": "3.7.0"
  }
 },
 "nbformat": 4,
 "nbformat_minor": 2
}
