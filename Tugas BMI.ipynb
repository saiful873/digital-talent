{
 "cells": [
  {
   "cell_type": "code",
   "execution_count": 6,
   "metadata": {},
   "outputs": [
    {
     "name": "stdout",
     "output_type": "stream",
     "text": [
      "Your BMI 16.25 and your BMI category is\n",
      "Underweight\n"
     ]
    }
   ],
   "source": [
    "#berat badan dalam satuan kg\n",
    "weight = 52 \n",
    "\n",
    "#tinggi badan dalam satuan cm\n",
    "height = 160 \n",
    "\n",
    "height_m = height / 100 #konversi tinggi dalam satuan cm ke m\n",
    "\n",
    "BMI = weight / (height_m * 2) #rumus BMI\n",
    "\n",
    "print(\"Your BMI\", BMI, \"and your BMI category is\") #print nilai BMI\n",
    "\n",
    "#kondisi setiap katagori BMI\n",
    "if BMI >= 40:\n",
    "    print(\"Very severely obese\")\n",
    "elif 40 > BMI >= 35:\n",
    "    print(\"Severely obese\")\n",
    "elif 35 > BMI >= 30:\n",
    "    print (\"Moderately obese\")\n",
    "elif 30 > BMI >= 25:\n",
    "    print(\"Overweight\")\n",
    "elif 25 > BMI >= 18.5:\n",
    "    print (\"Normal\")\n",
    "elif 18.5 > BMI >= 16:\n",
    "    print (\"Underweight\")\n",
    "elif 16 > BMI >= 15:\n",
    "    print (\"Severely underweight\")\n",
    "elif 15 > BMI :\n",
    "    print (\"Very severely underweight\")"
   ]
  },
  {
   "cell_type": "code",
   "execution_count": null,
   "metadata": {},
   "outputs": [],
   "source": []
  }
 ],
 "metadata": {
  "kernelspec": {
   "display_name": "Python 3",
   "language": "python",
   "name": "python3"
  },
  "language_info": {
   "codemirror_mode": {
    "name": "ipython",
    "version": 3
   },
   "file_extension": ".py",
   "mimetype": "text/x-python",
   "name": "python",
   "nbconvert_exporter": "python",
   "pygments_lexer": "ipython3",
   "version": "3.7.0"
  }
 },
 "nbformat": 4,
 "nbformat_minor": 2
}
