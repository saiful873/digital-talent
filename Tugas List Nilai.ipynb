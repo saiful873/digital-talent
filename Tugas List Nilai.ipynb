{
 "cells": [
  {
   "cell_type": "markdown",
   "metadata": {},
   "source": [
    "# LATIHAN 2 - Tugas List Nilai\n",
    "\n",
    "Diberikan sekumpulan Nilai Random antara 0 sampai dengan 100 sebanyak 250 nilai. Buatlah program untuk melakukan hal berikut:\n",
    "1. Tampilkan Angka Ganjil dari ke 250 nilai tersebut\n",
    "2. Tampilkan berapa banyak yang mendapatkan nilai lebih dari 70\n",
    "3. Tampilkan standar deviasi dari sekumpulan nilai tersebut\n",
    "4. Tampilkan nilai maksimum dan minimum\n",
    "5. Tampilkan modus dari sekumpulan nilai tersebut"
   ]
  },
  {
   "cell_type": "code",
   "execution_count": 1,
   "metadata": {},
   "outputs": [
    {
     "name": "stdout",
     "output_type": "stream",
     "text": [
      "[43, 66, 68, 58, 1, 9, 37, 30, 72, 99, 61, 63, 38, 88, 70, 37, 47, 89, 6, 70, 2, 83, 7, 32, 7, 88, 32, 9, 55, 19, 52, 53, 56, 21, 99, 58, 9, 9, 72, 26, 63, 84, 49, 44, 43, 16, 36, 75, 51, 65, 58, 26, 64, 21, 43, 25, 43, 47, 1, 43, 70, 8, 70, 20, 87, 64, 66, 62, 74, 94, 52, 1, 77, 68, 50, 46, 24, 2, 6, 6, 78, 33, 65, 14, 91, 73, 12, 39, 43, 48, 63, 64, 73, 17, 91, 23, 89, 94, 93, 16, 3, 29, 9, 39, 29, 85, 25, 51, 72, 64, 90, 94, 77, 57, 72, 97, 5, 93, 23, 80, 10, 52, 50, 61, 27, 55, 11, 45, 69, 53, 19, 31, 84, 62, 29, 25, 96, 62, 20, 45, 42, 65, 60, 42, 19, 55, 9, 62, 50, 58, 33, 69, 15, 54, 6, 35, 9, 9, 88, 80, 67, 21, 23, 54, 18, 85, 90, 18, 77, 13, 21, 20, 56, 38, 31, 98, 34, 14, 40, 22, 50, 53, 39, 22, 28, 37, 5, 42, 42, 42, 41, 2, 94, 72, 18, 48, 83, 30, 33, 42, 29, 31, 52, 29, 6, 50, 88, 25, 62, 1, 34, 30, 81, 10, 83, 34, 49, 98, 9, 19, 96, 32, 18, 51, 75, 46, 97, 12, 83, 22, 62, 21, 35, 3, 20, 39, 38, 33, 67, 29, 63, 39, 24, 90, 88, 94, 22, 37, 37, 12]\n"
     ]
    }
   ],
   "source": [
    "import random\n",
    "\n",
    "# Generate Random untuk List NilaiTugas\n",
    "NilaiTugas = []\n",
    "for i in range (250):\n",
    "    NilaiTugas.append(random.randrange(1,100,1))\n",
    "    \n",
    "print(NilaiTugas)"
   ]
  },
  {
   "cell_type": "markdown",
   "metadata": {},
   "source": [
    "### 1. Menampilkan  Angka Ganjil dari List Nilai Tugas"
   ]
  },
  {
   "cell_type": "code",
   "execution_count": 2,
   "metadata": {},
   "outputs": [
    {
     "name": "stdout",
     "output_type": "stream",
     "text": [
      "43\n",
      "1\n",
      "9\n",
      "37\n",
      "99\n",
      "61\n",
      "63\n",
      "37\n",
      "47\n",
      "89\n",
      "83\n",
      "7\n",
      "7\n",
      "9\n",
      "55\n",
      "19\n",
      "53\n",
      "21\n",
      "99\n",
      "9\n",
      "9\n",
      "63\n",
      "49\n",
      "43\n",
      "75\n",
      "51\n",
      "65\n",
      "21\n",
      "43\n",
      "25\n",
      "43\n",
      "47\n",
      "1\n",
      "43\n",
      "87\n",
      "1\n",
      "77\n",
      "33\n",
      "65\n",
      "91\n",
      "73\n",
      "39\n",
      "43\n",
      "63\n",
      "73\n",
      "17\n",
      "91\n",
      "23\n",
      "89\n",
      "93\n",
      "3\n",
      "29\n",
      "9\n",
      "39\n",
      "29\n",
      "85\n",
      "25\n",
      "51\n",
      "77\n",
      "57\n",
      "97\n",
      "5\n",
      "93\n",
      "23\n",
      "61\n",
      "27\n",
      "55\n",
      "11\n",
      "45\n",
      "69\n",
      "53\n",
      "19\n",
      "31\n",
      "29\n",
      "25\n",
      "45\n",
      "65\n",
      "19\n",
      "55\n",
      "9\n",
      "33\n",
      "69\n",
      "15\n",
      "35\n",
      "9\n",
      "9\n",
      "67\n",
      "21\n",
      "23\n",
      "85\n",
      "77\n",
      "13\n",
      "21\n",
      "31\n",
      "53\n",
      "39\n",
      "37\n",
      "5\n",
      "41\n",
      "83\n",
      "33\n",
      "29\n",
      "31\n",
      "29\n",
      "25\n",
      "1\n",
      "81\n",
      "83\n",
      "49\n",
      "9\n",
      "19\n",
      "51\n",
      "75\n",
      "97\n",
      "83\n",
      "21\n",
      "35\n",
      "3\n",
      "39\n",
      "33\n",
      "67\n",
      "29\n",
      "63\n",
      "39\n",
      "37\n",
      "37\n"
     ]
    }
   ],
   "source": [
    "for i in NilaiTugas:\n",
    "    if i%2 !=0:\n",
    "        print(i)"
   ]
  },
  {
   "cell_type": "markdown",
   "metadata": {},
   "source": [
    "### 2. Menampilkan Nilai yang Lebih dari 70 ( > 70)"
   ]
  },
  {
   "cell_type": "code",
   "execution_count": 7,
   "metadata": {},
   "outputs": [
    {
     "name": "stdout",
     "output_type": "stream",
     "text": [
      "[72, 99, 88, 89, 83, 88, 99, 72, 84, 75, 87, 74, 94, 77, 78, 91, 73, 73, 91, 89, 94, 93, 85, 72, 90, 94, 77, 72, 97, 93, 80, 84, 96, 88, 80, 85, 90, 77, 98, 94, 72, 83, 88, 81, 83, 98, 96, 75, 97, 83, 90, 88, 94]\n",
      "Jumlah nilai yang lebih dari 70 adalah 53\n"
     ]
    }
   ],
   "source": [
    "lebih_70 = []\n",
    "for i in NilaiTugas:\n",
    "    if i > 70:\n",
    "        lebih_70.append(i)\n",
    "print(lebih_70)\n",
    "        \n",
    "print(\"Jumlah nilai yang lebih dari 70 adalah\", len(lebih_70))"
   ]
  },
  {
   "cell_type": "markdown",
   "metadata": {},
   "source": [
    "### 3. Menampilkan Standar Deviasi dari List NilaiTugas"
   ]
  },
  {
   "cell_type": "code",
   "execution_count": 8,
   "metadata": {},
   "outputs": [
    {
     "name": "stdout",
     "output_type": "stream",
     "text": [
      "Hasil jumlah seluruh nilai di dalam List NilaiTugas adalah 11532\n",
      "Hasil pangkat dua dari jumlah seluruh nilai di dalam List NilaiTugas adalah 132987024\n",
      "Hasil jumlah seluruh nilai di dalam List NilaiTugas yang telah dipangkatkan adalah 718854\n",
      "Varian dari kumpulan nilai dalam List adalah  750.6261204819277\n",
      "Standar deviasi dari kumpulan nilai dalam list adalah 27.39755683417643\n"
     ]
    }
   ],
   "source": [
    "# Salah satu yang dibutuhkan dalam menghitung standar deviasi adalah nilai rata-rata\n",
    "\n",
    "#langkah 1, menjumlahkan seluruh nilai dalam List\n",
    "totalNilaiTugas = 0\n",
    "for i in NilaiTugas:\n",
    "    totalNilaiTugas = totalNilaiTugas + i\n",
    "print(\"Hasil jumlah seluruh nilai di dalam List NilaiTugas adalah\", totalNilaiTugas)\n",
    "    \n",
    "# m_NilaiTugas = totalNilaiTugas / len(NilaiTugas)\n",
    "# print(\"dengan nilai rata-rata\", m_NilaiTugas)\n",
    "\n",
    "# langkah 2, memangkatkan dua hasil penjumlahan sebelumnya\n",
    "totalNilaiTugas_2 = totalNilaiTugas ** 2\n",
    "print(\"Hasil pangkat dua dari jumlah seluruh nilai di dalam List NilaiTugas adalah\", totalNilaiTugas_2)\n",
    "\n",
    "# langkah 3, memangkatkan dua setiap nilai dalam list\n",
    "NilaiTugas2 = []\n",
    "for i in NilaiTugas:\n",
    "    NilaiTugas2.append(i**2)\n",
    "# print(NilaiTugas2)\n",
    "\n",
    "# Langkah 4, menjumlahkan seluruh hasil pemangkatan dua nilai dalam list\n",
    "total_NilaiTugas2 = 0\n",
    "for i in NilaiTugas2:\n",
    "    total_NilaiTugas2 = total_NilaiTugas2 + i\n",
    "print(\"Hasil jumlah seluruh nilai di dalam List NilaiTugas yang telah dipangkatkan adalah\", total_NilaiTugas2)\n",
    "\n",
    "# print(type(totalNilaiTugas_2))\n",
    "# print(type(total_NilaiTugas2))\n",
    "\n",
    "#langkah 4, Nilai varian\n",
    "n = len(NilaiTugas)\n",
    "\n",
    "varian_NilaiTugas = ((n*total_NilaiTugas2) - totalNilaiTugas_2) / (n*(n-1))\n",
    "print(\"Varian dari kumpulan nilai dalam List adalah \", varian_NilaiTugas)\n",
    "\n",
    "#langkah 5, Standar deviasi merupakan akar kuadrat dari varian\n",
    "s_NilaiTugas = varian_NilaiTugas ** 0.5\n",
    "print(\"Standar deviasi dari kumpulan nilai dalam list adalah\", s_NilaiTugas)\n"
   ]
  },
  {
   "cell_type": "markdown",
   "metadata": {},
   "source": [
    "### 4. Menampilkan Nilai Maksimum dan Minimum Nilai dalam List"
   ]
  },
  {
   "cell_type": "code",
   "execution_count": 9,
   "metadata": {},
   "outputs": [
    {
     "name": "stdout",
     "output_type": "stream",
     "text": [
      "66\n",
      "68\n",
      "72\n",
      "99\n",
      "Nilai maksimumnya adalah 99\n",
      "1\n",
      "Nilai minimumnya adalah 1\n"
     ]
    }
   ],
   "source": [
    "maksimum = NilaiTugas[0] # n = len(NilaiTugas)\n",
    "for i in NilaiTugas:\n",
    "    if i > maksimum:\n",
    "        maksimum = i\n",
    "        print(maksimum)\n",
    "print(\"Nilai maksimumnya adalah\", maksimum)\n",
    "\n",
    "minimum = NilaiTugas[0]\n",
    "for i in NilaiTugas:\n",
    "    if i < minimum:\n",
    "        minimum = i\n",
    "        print(minimum)\n",
    "print(\"Nilai minimumnya adalah\", minimum)\n",
    "        "
   ]
  },
  {
   "cell_type": "markdown",
   "metadata": {},
   "source": [
    "### 5. Menampilkan Modus dari Sekumpulan Nilai dalam List"
   ]
  },
  {
   "cell_type": "code",
   "execution_count": 10,
   "metadata": {},
   "outputs": [
    {
     "name": "stdout",
     "output_type": "stream",
     "text": [
      "{43: 6, 66: 2, 68: 2, 58: 4, 1: 4, 9: 9, 37: 5, 30: 3, 72: 5, 99: 2, 61: 2, 63: 4, 38: 3, 88: 5, 70: 4, 47: 2, 89: 2, 6: 5, 2: 3, 83: 4, 7: 2, 32: 3, 55: 3, 19: 4, 52: 4, 53: 3, 56: 2, 21: 5, 26: 2, 84: 2, 49: 2, 44: 1, 16: 2, 36: 1, 75: 2, 51: 3, 65: 3, 64: 4, 25: 4, 8: 1, 20: 4, 87: 1, 62: 6, 74: 1, 94: 5, 77: 3, 50: 5, 46: 2, 24: 2, 78: 1, 33: 4, 14: 2, 91: 2, 73: 2, 12: 3, 39: 5, 48: 2, 17: 1, 23: 3, 93: 2, 3: 2, 29: 6, 85: 2, 90: 3, 57: 1, 97: 2, 5: 2, 80: 2, 10: 2, 27: 1, 11: 1, 45: 2, 69: 2, 31: 3, 96: 2, 42: 6, 60: 1, 15: 1, 54: 2, 35: 2, 67: 2, 18: 4, 13: 1, 98: 2, 34: 3, 40: 1, 22: 4, 28: 1, 41: 1, 81: 1}\n",
      "======\n",
      "43 : 6\n",
      "66 : 2\n",
      "68 : 2\n",
      "58 : 4\n",
      "1 : 4\n",
      "9 : 9\n",
      "37 : 5\n",
      "30 : 3\n",
      "72 : 5\n",
      "99 : 2\n",
      "61 : 2\n",
      "63 : 4\n",
      "38 : 3\n",
      "88 : 5\n",
      "70 : 4\n",
      "47 : 2\n",
      "89 : 2\n",
      "6 : 5\n",
      "2 : 3\n",
      "83 : 4\n",
      "7 : 2\n",
      "32 : 3\n",
      "55 : 3\n",
      "19 : 4\n",
      "52 : 4\n",
      "53 : 3\n",
      "56 : 2\n",
      "21 : 5\n",
      "26 : 2\n",
      "84 : 2\n",
      "49 : 2\n",
      "44 : 1\n",
      "16 : 2\n",
      "36 : 1\n",
      "75 : 2\n",
      "51 : 3\n",
      "65 : 3\n",
      "64 : 4\n",
      "25 : 4\n",
      "8 : 1\n",
      "20 : 4\n",
      "87 : 1\n",
      "62 : 6\n",
      "74 : 1\n",
      "94 : 5\n",
      "77 : 3\n",
      "50 : 5\n",
      "46 : 2\n",
      "24 : 2\n",
      "78 : 1\n",
      "33 : 4\n",
      "14 : 2\n",
      "91 : 2\n",
      "73 : 2\n",
      "12 : 3\n",
      "39 : 5\n",
      "48 : 2\n",
      "17 : 1\n",
      "23 : 3\n",
      "93 : 2\n",
      "3 : 2\n",
      "29 : 6\n",
      "85 : 2\n",
      "90 : 3\n",
      "57 : 1\n",
      "97 : 2\n",
      "5 : 2\n",
      "80 : 2\n",
      "10 : 2\n",
      "27 : 1\n",
      "11 : 1\n",
      "45 : 2\n",
      "69 : 2\n",
      "31 : 3\n",
      "96 : 2\n",
      "42 : 6\n",
      "60 : 1\n",
      "15 : 1\n",
      "54 : 2\n",
      "35 : 2\n",
      "67 : 2\n",
      "18 : 4\n",
      "13 : 1\n",
      "98 : 2\n",
      "34 : 3\n",
      "40 : 1\n",
      "22 : 4\n",
      "28 : 1\n",
      "41 : 1\n",
      "81 : 1\n",
      "======\n",
      "Nilai modus dari List adalah 9 dengan jumlah frekuensi nilai keluar 9\n"
     ]
    }
   ],
   "source": [
    "# frekuensi\n",
    "frekuensi = {}\n",
    "for i in NilaiTugas:\n",
    "    frekuensi[i] = frekuensi.get(i, 0) + 1\n",
    "    \n",
    "print(frekuensi)\n",
    "print(\"======\")\n",
    "\n",
    "# mode\n",
    "for k,v in frekuensi.items():\n",
    "        print(k,\":\",v)\n",
    "        \n",
    "print(\"======\")\n",
    "        \n",
    "modus = max((v, k) for k, v in frekuensi.items())\n",
    "print(\"Nilai modus dari List adalah\", modus[1], \"dengan jumlah frekuensi nilai keluar\", modus[0])"
   ]
  },
  {
   "cell_type": "code",
   "execution_count": null,
   "metadata": {},
   "outputs": [],
   "source": []
  }
 ],
 "metadata": {
  "kernelspec": {
   "display_name": "Python 3",
   "language": "python",
   "name": "python3"
  },
  "language_info": {
   "codemirror_mode": {
    "name": "ipython",
    "version": 3
   },
   "file_extension": ".py",
   "mimetype": "text/x-python",
   "name": "python",
   "nbconvert_exporter": "python",
   "pygments_lexer": "ipython3",
   "version": "3.7.0"
  }
 },
 "nbformat": 4,
 "nbformat_minor": 2
}
